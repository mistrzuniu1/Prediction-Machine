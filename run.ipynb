{
 "cells": [
  {
   "cell_type": "code",
   "execution_count": 3,
   "metadata": {},
   "outputs": [],
   "source": [
    "import warnings\n",
    "warnings.filterwarnings(\"ignore\")"
   ]
  },
  {
   "cell_type": "markdown",
   "metadata": {},
   "source": [
    "First of all we initialize our LeagueResulPredictor. Now 1.Bundesliga and Premier League is avalible, but I will add more soon. As a second argument we pass number of seasons which will be take to train model. I show you how to predict 1.Bundesliga matches, but to predict Premier League matches you only should change \"D1\" to \"E0\" as a parameter for LeagueResultPredictor."
   ]
  },
  {
   "cell_type": "code",
   "execution_count": 4,
   "metadata": {},
   "outputs": [],
   "source": [
    "from LeagueResultPredictor import LeagueResultPredictor\n",
    "league=LeagueResultPredictor(\"D1\",5)"
   ]
  },
  {
   "cell_type": "markdown",
   "metadata": {},
   "source": [
    "Now, we have to get and prepare the date from previous years to train our model. It will takes a while. After you will get statement \"Data Prepering done.\""
   ]
  },
  {
   "cell_type": "code",
   "execution_count": 5,
   "metadata": {},
   "outputs": [
    {
     "name": "stdout",
     "output_type": "stream",
     "text": [
      "Data Prepering done.\n"
     ]
    }
   ],
   "source": [
    "league.prepareData()"
   ]
  },
  {
   "cell_type": "markdown",
   "metadata": {},
   "source": [
    "We prepared our data to train our model. Our prepared date is stored in \"data/finalD1.csv\" file. We will use Logictic Regression, Support Vector Classification and XGboost algorithms to train our model. After making our model, we are checking accuracy for test data."
   ]
  },
  {
   "cell_type": "code",
   "execution_count": 6,
   "metadata": {},
   "outputs": [
    {
     "name": "stdout",
     "output_type": "stream",
     "text": [
      "Logictic Regression\n",
      "F1 score and accuracy score for test set: 0.5300 , 0.5300.\n",
      "Support Vector Classification\n",
      "F1 score and accuracy score for test set: 0.5150 , 0.5150.\n",
      "XGboost\n",
      "F1 score and accuracy score for test set: 0.5100 , 0.5100.\n"
     ]
    }
   ],
   "source": [
    "league.trainClassifiers()"
   ]
  },
  {
   "cell_type": "markdown",
   "metadata": {},
   "source": [
    "As we can see the best accuracy we get for Logistic Regresion, so we will use it to predict probability for upcoming matches."
   ]
  },
  {
   "cell_type": "code",
   "execution_count": 9,
   "metadata": {},
   "outputs": [],
   "source": [
    "classifier=league.getLogisticRegressionClassifier()\n",
    "league.getProbabilitiesForUpcomingMatches(classifier)"
   ]
  },
  {
   "cell_type": "markdown",
   "metadata": {},
   "source": [
    "Now we have got out probability for upcoming matches in \"data/UpcomingBundesligaProbablity.csv\" file."
   ]
  },
  {
   "cell_type": "code",
   "execution_count": null,
   "metadata": {},
   "outputs": [],
   "source": []
  }
 ],
 "metadata": {
  "kernelspec": {
   "display_name": "Python 3",
   "language": "python",
   "name": "python3"
  },
  "language_info": {
   "codemirror_mode": {
    "name": "ipython",
    "version": 3
   },
   "file_extension": ".py",
   "mimetype": "text/x-python",
   "name": "python",
   "nbconvert_exporter": "python",
   "pygments_lexer": "ipython3",
   "version": "3.5.2"
  }
 },
 "nbformat": 4,
 "nbformat_minor": 2
}
